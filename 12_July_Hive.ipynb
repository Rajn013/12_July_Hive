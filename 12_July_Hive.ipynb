{
 "cells": [
  {
   "cell_type": "markdown",
   "id": "daa8ad64",
   "metadata": {},
   "source": [
    "1.  Write a Python program that uses the HiveQL language to create a table named \"Employees\" with columns for \"id,\" \"name,\" and \"salary.\"\n"
   ]
  },
  {
   "cell_type": "markdown",
   "id": "96a83c37",
   "metadata": {},
   "source": [
    "Use the pyhive library to connect to the Hive server.\n",
    "Use the HiveCursor to execute the HiveQL query to create the table."
   ]
  },
  {
   "cell_type": "markdown",
   "id": "5cfb91c1",
   "metadata": {},
   "source": [
    "2.  Create a Python program that retrieves records from a Hive table named \"Customers\" where the age is greater than 30.\n"
   ]
  },
  {
   "cell_type": "markdown",
   "id": "60deb714",
   "metadata": {},
   "source": [
    "Connect to the Hive server using the pyhive library.\n",
    "Use the HiveCursor to execute the HiveQL query to retrieve records with age > 30 from the \"Customers\" table."
   ]
  },
  {
   "cell_type": "markdown",
   "id": "c52a5159",
   "metadata": {},
   "source": [
    "3.  Write a Python script that sorts records in descending order based on the \"timestamp\" column in a Hive table named \"Logs.\"\n"
   ]
  },
  {
   "cell_type": "markdown",
   "id": "fa799fd4",
   "metadata": {},
   "source": [
    "Connect to the Hive server using the pyhive library.\n",
    "Use the HiveCursor to execute the HiveQL query to sort records in descending order based on the \"timestamp\" column in the \"Logs\" table."
   ]
  },
  {
   "cell_type": "markdown",
   "id": "5b3b6764",
   "metadata": {},
   "source": [
    "4.  Write a Python program that connects to a Hive server using PyHive library and retrieves all records from a table named \"Products\".\n"
   ]
  },
  {
   "cell_type": "markdown",
   "id": "0e6f4ead",
   "metadata": {},
   "source": [
    "Use the pyhive library to connect to the Hive server.\n",
    "Use the HiveCursor to execute the HiveQL query to retrieve all records from the \"Products\" table."
   ]
  },
  {
   "cell_type": "markdown",
   "id": "be72ecec",
   "metadata": {},
   "source": [
    "5.  Write a Python script that calculates the average salary of employees from a Hive table named \"Employees\".\n"
   ]
  },
  {
   "cell_type": "markdown",
   "id": "1b1dac42",
   "metadata": {},
   "source": [
    "Connect to the Hive server using the pyhive library.\n",
    "Use the HiveCursor to execute the HiveQL query to calculate the average salary from the \"Employees\" table."
   ]
  },
  {
   "cell_type": "markdown",
   "id": "8d0d6420",
   "metadata": {},
   "source": [
    "6.  Implement a Python program that uses Hive partitioning to create a partitioned table named \"Sales_Data\" based on the \"year\" and \"month\" columns.\n"
   ]
  },
  {
   "cell_type": "markdown",
   "id": "357d7912",
   "metadata": {},
   "source": [
    "Connect to the Hive server using the pyhive library.\n",
    "Use the HiveCursor to execute the HiveQL query to create the partitioned table \"Sales_Data\" with partitions based on the \"year\" and \"month\" columns."
   ]
  },
  {
   "cell_type": "markdown",
   "id": "ac020bb0",
   "metadata": {},
   "source": [
    "7.  Develop a Python script that adds a new column named \"email\" of type string to an existing Hive table named \"Employees.\"\n"
   ]
  },
  {
   "cell_type": "markdown",
   "id": "874e26e9",
   "metadata": {},
   "source": [
    "Connect to the Hive server using the pyhive library.\n",
    "Use the HiveCursor to execute the HiveQL query to add a new column \"email\" of type string to the \"Employees\" table."
   ]
  },
  {
   "cell_type": "markdown",
   "id": "da335c3c",
   "metadata": {},
   "source": [
    "8.  Create a Python program that performs an inner join between two Hive tables, \"Orders\" and \"Customers,\" based on a common column.\n"
   ]
  },
  {
   "cell_type": "markdown",
   "id": "11297b95",
   "metadata": {},
   "source": [
    "Connect to the Hive server using the pyhive library.\n",
    "Use the HiveCursor to execute the HiveQL query to perform an inner join between the \"Orders\" and \"Customers\" tables."
   ]
  },
  {
   "cell_type": "markdown",
   "id": "ca0b96d2",
   "metadata": {},
   "source": [
    "9.  Implement a Python program that uses the Hive SerDe library to process JSON data stored in a Hive table named \"User_Activity_Logs.\"\n",
    "\n"
   ]
  },
  {
   "cell_type": "markdown",
   "id": "1ca92e5b",
   "metadata": {},
   "source": [
    "Connect to the Hive server using the pyhive library.\n",
    "Use the HiveCursor to execute the HiveQL query to create the \"User_Activity_Logs\" table with the appropriate SerDe for processing JSON data."
   ]
  },
  {
   "cell_type": "code",
   "execution_count": null,
   "id": "8d2b1893",
   "metadata": {},
   "outputs": [],
   "source": []
  }
 ],
 "metadata": {
  "kernelspec": {
   "display_name": "Python 3 (ipykernel)",
   "language": "python",
   "name": "python3"
  },
  "language_info": {
   "codemirror_mode": {
    "name": "ipython",
    "version": 3
   },
   "file_extension": ".py",
   "mimetype": "text/x-python",
   "name": "python",
   "nbconvert_exporter": "python",
   "pygments_lexer": "ipython3",
   "version": "3.9.12"
  }
 },
 "nbformat": 4,
 "nbformat_minor": 5
}
